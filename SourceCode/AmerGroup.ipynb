{
 "cells": [
  {
   "cell_type": "markdown",
   "metadata": {},
   "source": [
    "# 深圳证威(集团)有限公司"
   ]
  },
  {
   "cell_type": "markdown",
   "metadata": {},
   "source": [
    "## 集团简介及发展历程\n",
    "正威集团是由产业经济发展起来的一家以金属新材料和非金属新材料完整产业链为主导的高科技产业集团, 近年来大力发展产业投资与科技智慧园区开发, 战略投资与财务投资, 交易平台等业务. 在金属新材料领域位列世界第一."
   ]
  },
  {
   "cell_type": "code",
   "execution_count": 1,
   "metadata": {
    "collapsed": true
   },
   "outputs": [],
   "source": [
    "companys_str = '深圳金属新材料产业园、江西赣州金属新材料产业园、安徽铜陵金属新材料产业园、兰州新区正威电子信息产业园、辽宁营口高威金属新材料产业园、正威重庆南川金属新材料产业园、正威洛阳金属和非金属新材料科技城产业园、天津电子信息产业基地、江西宜春电子信息产业园、珠海海威科技创新中心、四川广安宏威金属和非金属新材料产业园、辽宁营口聚酰亚胺非金属新材料产业园、郑州航空港正威智能终端（手机）产业园、新加坡集成电路产业基地、正威（美国）通用钼矿产业园、正威重庆大足电子信息及文化产业园、湖南郴州国际矿产资源交易中心、贵州国际商品交易中心、河南洛阳金属交易中心、安徽安庆汉玉产业园、梧州国际宝玉石文化创意产业园、魏紫姚黄红木艺术品产业园、正威园艺产业园、大健康产业园'\n",
    "companys_list = companys_str.split('、')"
   ]
  },
  {
   "cell_type": "code",
   "execution_count": 2,
   "metadata": {},
   "outputs": [
    {
     "data": {
      "text/plain": [
       "['深圳金属新材料产业园',\n",
       " '江西赣州金属新材料产业园',\n",
       " '安徽铜陵金属新材料产业园',\n",
       " '兰州新区正威电子信息产业园',\n",
       " '辽宁营口高威金属新材料产业园',\n",
       " '正威重庆南川金属新材料产业园',\n",
       " '正威洛阳金属和非金属新材料科技城产业园',\n",
       " '天津电子信息产业基地',\n",
       " '江西宜春电子信息产业园',\n",
       " '珠海海威科技创新中心',\n",
       " '四川广安宏威金属和非金属新材料产业园',\n",
       " '辽宁营口聚酰亚胺非金属新材料产业园',\n",
       " '郑州航空港正威智能终端（手机）产业园',\n",
       " '新加坡集成电路产业基地',\n",
       " '正威（美国）通用钼矿产业园',\n",
       " '正威重庆大足电子信息及文化产业园',\n",
       " '湖南郴州国际矿产资源交易中心',\n",
       " '贵州国际商品交易中心',\n",
       " '河南洛阳金属交易中心',\n",
       " '安徽安庆汉玉产业园',\n",
       " '梧州国际宝玉石文化创意产业园',\n",
       " '魏紫姚黄红木艺术品产业园',\n",
       " '正威园艺产业园',\n",
       " '大健康产业园']"
      ]
     },
     "execution_count": 2,
     "metadata": {},
     "output_type": "execute_result"
    }
   ],
   "source": [
    "companys_list"
   ]
  },
  {
   "cell_type": "code",
   "execution_count": 3,
   "metadata": {},
   "outputs": [
    {
     "data": {
      "text/plain": [
       "24"
      ]
     },
     "execution_count": 3,
     "metadata": {},
     "output_type": "execute_result"
    }
   ],
   "source": [
    "len(companys_list)"
   ]
  },
  {
   "cell_type": "markdown",
   "metadata": {},
   "source": [
    "# FORTUNE--世界500强\n",
    "数据来自财富杂志统计的世界500强数据"
   ]
  },
  {
   "cell_type": "code",
   "execution_count": 5,
   "metadata": {
    "collapsed": true
   },
   "outputs": [],
   "source": [
    "# 2013年开始进入世界500强\n",
    "amer_2013_2017 = {\n",
    "    '500强排名': {\n",
    "        '2012': 387,\n",
    "        '2013': 295,\n",
    "        '2014': 247,\n",
    "        '2015': 190,\n",
    "        '2016': 183\n",
    "    },\n",
    "    '营业收入': {\n",
    "        '2012': 29588.3,\n",
    "        '2013': 38030.2,\n",
    "        '2014': 43611.7,\n",
    "        '2015': 47795.1,\n",
    "        '2016': 49676.7\n",
    "    },\n",
    "    '利润': {\n",
    "        '2012': 569.2,\n",
    "        '2013': 833.3,\n",
    "        '2014': 957.7,\n",
    "        '2015': 1140.5,\n",
    "        '2016': 1199.9\n",
    "    },\n",
    "    '资产': {\n",
    "        '2012': 13914.0,\n",
    "        '2013': 17142.8,\n",
    "        '2014': 18655.0,\n",
    "        '2015': 18559.4,\n",
    "        '2016': 18404.9\n",
    "    },\n",
    "    '净利率': {\n",
    "        '2012': 1.9,\n",
    "        '2013': 2.2,\n",
    "        '2014': 2.2,\n",
    "        '2015': 2.4,\n",
    "        '2016': 2.4\n",
    "    },\n",
    "    '资产收益率': {\n",
    "        '2012': 4.1,\n",
    "        '2013': 4.9,\n",
    "        '2014': 5.1,\n",
    "        '2015': 6.1,\n",
    "        '2016': 6.5\n",
    "    }\n",
    "}"
   ]
  },
  {
   "cell_type": "code",
   "execution_count": 6,
   "metadata": {
    "collapsed": true
   },
   "outputs": [],
   "source": [
    "import pandas as pd\n",
    "amer_2012_2016_df = pd.DataFrame(amer_2013_2017)"
   ]
  },
  {
   "cell_type": "code",
   "execution_count": 7,
   "metadata": {},
   "outputs": [
    {
     "data": {
      "text/html": [
       "<div>\n",
       "<style>\n",
       "    .dataframe thead tr:only-child th {\n",
       "        text-align: right;\n",
       "    }\n",
       "\n",
       "    .dataframe thead th {\n",
       "        text-align: left;\n",
       "    }\n",
       "\n",
       "    .dataframe tbody tr th {\n",
       "        vertical-align: top;\n",
       "    }\n",
       "</style>\n",
       "<table border=\"1\" class=\"dataframe\">\n",
       "  <thead>\n",
       "    <tr style=\"text-align: right;\">\n",
       "      <th></th>\n",
       "      <th>500强排名</th>\n",
       "      <th>净利率</th>\n",
       "      <th>利润</th>\n",
       "      <th>营业收入</th>\n",
       "      <th>资产</th>\n",
       "      <th>资产收益率</th>\n",
       "    </tr>\n",
       "  </thead>\n",
       "  <tbody>\n",
       "    <tr>\n",
       "      <th>2012</th>\n",
       "      <td>387</td>\n",
       "      <td>1.9</td>\n",
       "      <td>569.2</td>\n",
       "      <td>29588.3</td>\n",
       "      <td>13914.0</td>\n",
       "      <td>4.1</td>\n",
       "    </tr>\n",
       "    <tr>\n",
       "      <th>2013</th>\n",
       "      <td>295</td>\n",
       "      <td>2.2</td>\n",
       "      <td>833.3</td>\n",
       "      <td>38030.2</td>\n",
       "      <td>17142.8</td>\n",
       "      <td>4.9</td>\n",
       "    </tr>\n",
       "    <tr>\n",
       "      <th>2014</th>\n",
       "      <td>247</td>\n",
       "      <td>2.2</td>\n",
       "      <td>957.7</td>\n",
       "      <td>43611.7</td>\n",
       "      <td>18655.0</td>\n",
       "      <td>5.1</td>\n",
       "    </tr>\n",
       "    <tr>\n",
       "      <th>2015</th>\n",
       "      <td>190</td>\n",
       "      <td>2.4</td>\n",
       "      <td>1140.5</td>\n",
       "      <td>47795.1</td>\n",
       "      <td>18559.4</td>\n",
       "      <td>6.1</td>\n",
       "    </tr>\n",
       "    <tr>\n",
       "      <th>2016</th>\n",
       "      <td>183</td>\n",
       "      <td>2.4</td>\n",
       "      <td>1199.9</td>\n",
       "      <td>49676.7</td>\n",
       "      <td>18404.9</td>\n",
       "      <td>6.5</td>\n",
       "    </tr>\n",
       "  </tbody>\n",
       "</table>\n",
       "</div>"
      ],
      "text/plain": [
       "      500强排名  净利率      利润     营业收入       资产  资产收益率\n",
       "2012     387  1.9   569.2  29588.3  13914.0    4.1\n",
       "2013     295  2.2   833.3  38030.2  17142.8    4.9\n",
       "2014     247  2.2   957.7  43611.7  18655.0    5.1\n",
       "2015     190  2.4  1140.5  47795.1  18559.4    6.1\n",
       "2016     183  2.4  1199.9  49676.7  18404.9    6.5"
      ]
     },
     "execution_count": 7,
     "metadata": {},
     "output_type": "execute_result"
    }
   ],
   "source": [
    "amer_2012_2016_df"
   ]
  },
  {
   "cell_type": "code",
   "execution_count": null,
   "metadata": {
    "collapsed": true
   },
   "outputs": [],
   "source": []
  }
 ],
 "metadata": {
  "kernelspec": {
   "display_name": "Python 3",
   "language": "python",
   "name": "python3"
  },
  "language_info": {
   "codemirror_mode": {
    "name": "ipython",
    "version": 3
   },
   "file_extension": ".py",
   "mimetype": "text/x-python",
   "name": "python",
   "nbconvert_exporter": "python",
   "pygments_lexer": "ipython3",
   "version": "3.6.3"
  }
 },
 "nbformat": 4,
 "nbformat_minor": 2
}
